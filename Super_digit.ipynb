{
  "nbformat": 4,
  "nbformat_minor": 0,
  "metadata": {
    "colab": {
      "name": "Super_digit.ipynb",
      "provenance": [],
      "authorship_tag": "ABX9TyPP+Luct9CbEsyFYqxo43XZ",
      "include_colab_link": true
    },
    "kernelspec": {
      "name": "python3",
      "display_name": "Python 3"
    },
    "language_info": {
      "name": "python"
    }
  },
  "cells": [
    {
      "cell_type": "markdown",
      "metadata": {
        "id": "view-in-github",
        "colab_type": "text"
      },
      "source": [
        "<a href=\"https://colab.research.google.com/github/abisaxena/coursera_capstone_project/blob/main/Super_digit.ipynb\" target=\"_parent\"><img src=\"https://colab.research.google.com/assets/colab-badge.svg\" alt=\"Open In Colab\"/></a>"
      ]
    },
    {
      "cell_type": "code",
      "metadata": {
        "id": "iRRpXCy8gMYm"
      },
      "source": [
        ""
      ],
      "execution_count": null,
      "outputs": []
    },
    {
      "cell_type": "code",
      "metadata": {
        "id": "FW5hLUohgSNZ",
        "colab": {
          "base_uri": "https://localhost:8080/"
        },
        "outputId": "8ef142b0-8db7-4918-9264-56912347cb96"
      },
      "source": [
        "n, k = map(int, input().split())\n",
        "x = n * k % 9\n",
        "print(x if x else 9)"
      ],
      "execution_count": 13,
      "outputs": [
        {
          "output_type": "stream",
          "name": "stdout",
          "text": [
            "12 3\n",
            "0\n",
            "9\n"
          ]
        }
      ]
    }
  ]
}